{
 "cells": [
  {
   "cell_type": "code",
   "execution_count": 1,
   "id": "a500d88a-7f10-46ea-8cec-267b6c54ec40",
   "metadata": {},
   "outputs": [],
   "source": [
    "# importing all the libraries\n",
    "import logging\n",
    "from bs4 import BeautifulSoup as bs\n",
    "from urllib.request import urlopen\n",
    "import requests\n",
    "import os"
   ]
  },
  {
   "cell_type": "code",
   "execution_count": 2,
   "id": "c6a15496-7f88-4a77-9adb-f636ff6980de",
   "metadata": {},
   "outputs": [],
   "source": [
    "#to save all the images we will create a directory\n",
    "#this statement will create the directory if it is not present\n",
    "#if the directory is already present then it will skip it\n",
    "image_dir=\"images/\"\n",
    "if not os.path.exists(image_dir):\n",
    "    os.makedirs(image_dir)"
   ]
  },
  {
   "cell_type": "code",
   "execution_count": 3,
   "id": "a1f38317-5c22-475e-a532-7d3528fb6f9e",
   "metadata": {},
   "outputs": [],
   "source": [
    "#to avoid the errors or the disturbances from the web browsers\n",
    "headers = {\"User-Agent\": \"Mozilla/5.0 (Windows NT 10.0; Win64; x64) AppleWebKit/537.36 (KHTML, like Gecko) Chrome/58.0.3029.110 Safari/537.36\"}"
   ]
  },
  {
   "cell_type": "code",
   "execution_count": 7,
   "id": "d2dbdafb-73b9-4a09-9058-f614c9f00242",
   "metadata": {},
   "outputs": [],
   "source": [
    "#this is the web browser link to scrap the images\n",
    "query=\"elon musk\"\n",
    "response=requests.get(f\"https://www.google.com/search?q={query}&sxsrf=AJOqlzUuff1RXi2mm8I_OqOwT9VjfIDL7w:1676996143273&source=lnms&tbm=isch&sa=X&ved=2ahUKEwiq-qK7gaf9AhXUgVYBHYReAfYQ_AUoA3oECAEQBQ&biw=1920&bih=937&dpr=1#imgrc=1th7VhSesfMJ4M\")\n"
   ]
  },
  {
   "cell_type": "code",
   "execution_count": 8,
   "id": "da67069b-bc89-42f2-83cb-cdd0e80e38a9",
   "metadata": {},
   "outputs": [
    {
     "data": {
      "text/plain": [
       "<Response [200]>"
      ]
     },
     "execution_count": 8,
     "metadata": {},
     "output_type": "execute_result"
    }
   ],
   "source": [
    "response"
   ]
  },
  {
   "cell_type": "code",
   "execution_count": null,
   "id": "d00a011e-6f9f-447f-8870-6e562f488657",
   "metadata": {},
   "outputs": [],
   "source": [
    "#now to scrap the entire html details of that page\n",
    "response.content"
   ]
  },
  {
   "cell_type": "code",
   "execution_count": 11,
   "id": "a955d8aa-4c64-42f9-b6af-266082f15b42",
   "metadata": {},
   "outputs": [],
   "source": [
    "# now to beautify the html content we will use the Beatifulsoup\n",
    "soup=bs(response.content,\"html.parser\")"
   ]
  },
  {
   "cell_type": "code",
   "execution_count": 13,
   "id": "3946003d-9da0-4af2-9e25-b310bf88275c",
   "metadata": {},
   "outputs": [],
   "source": [
    "#to get all the images tags that are present in the html of that particular page\n",
    "image_tags=soup.find_all(\"img\")"
   ]
  },
  {
   "cell_type": "code",
   "execution_count": 14,
   "id": "e57a8d19-9957-4116-a869-71d3659632f0",
   "metadata": {},
   "outputs": [],
   "source": [
    "#as in the first entry there is img tag i will delete it\n",
    "del image_tags[0]"
   ]
  },
  {
   "cell_type": "code",
   "execution_count": 15,
   "id": "8561a45f-e62a-429d-b90a-0aed16fee4c2",
   "metadata": {},
   "outputs": [
    {
     "data": {
      "text/plain": [
       "20"
      ]
     },
     "execution_count": 15,
     "metadata": {},
     "output_type": "execute_result"
    }
   ],
   "source": [
    "len(image_tags)"
   ]
  },
  {
   "cell_type": "code",
   "execution_count": 18,
   "id": "6da98f22-a933-41b1-a8f8-ade9158f9c24",
   "metadata": {},
   "outputs": [],
   "source": [
    "#as the image links are only present in the src part of img tag\n",
    "#we will try to extract only the src part of the img tag\n",
    "images_mongo=[]\n",
    "for i in image_tags:\n",
    "    images_url=i[\"src\"]\n",
    "    image_data=requests.get(images_url).content #this is to get only the images directly that are present in the url's\n",
    "    mongo_dict={\"index\":images_url,\"image\":image_data}\n",
    "    images_mongo.append(mongo_dict) #to store the data in mongoDB\n",
    "    with open(os.path.join(image_dir,f\"{query}_{image_tags.index(i)}.jpg\") , \"wb\") as f :\n",
    "                           f.write(image_data) #this is to store the images in our local system\n",
    "    \n"
   ]
  },
  {
   "cell_type": "code",
   "execution_count": null,
   "id": "5cf766ce-401f-413a-8600-e50754cd0e6f",
   "metadata": {},
   "outputs": [],
   "source": []
  }
 ],
 "metadata": {
  "kernelspec": {
   "display_name": "Python 3 (ipykernel)",
   "language": "python",
   "name": "python3"
  },
  "language_info": {
   "codemirror_mode": {
    "name": "ipython",
    "version": 3
   },
   "file_extension": ".py",
   "mimetype": "text/x-python",
   "name": "python",
   "nbconvert_exporter": "python",
   "pygments_lexer": "ipython3",
   "version": "3.9.13"
  }
 },
 "nbformat": 4,
 "nbformat_minor": 5
}
